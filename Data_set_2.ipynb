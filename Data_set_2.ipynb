{
 "cells": [
  {
   "cell_type": "markdown",
   "id": "096c7049",
   "metadata": {},
   "source": [
    "## Exract all the surrounding vehicle data"
   ]
  },
  {
   "cell_type": "code",
   "execution_count": 8,
   "id": "f84b511c",
   "metadata": {},
   "outputs": [
    {
     "name": "stderr",
     "output_type": "stream",
     "text": [
      "C:\\Users\\dell\\AppData\\Local\\Temp\\ipykernel_10288\\2988763807.py:102: FutureWarning: The behavior of DataFrame concatenation with empty or all-NA entries is deprecated. In a future version, this will no longer exclude empty or all-NA columns when determining the result dtypes. To retain the old behavior, exclude the relevant entries before the concat operation.\n",
      "  merged_df = pd.concat(out_rows, ignore_index=True)\n"
     ]
    },
    {
     "name": "stdout",
     "output_type": "stream",
     "text": [
      "✔️  lane_changing_2_to_3.csv: 5795 rows → 'merged_lane_changing_2_to_3.csv'\n"
     ]
    },
    {
     "name": "stderr",
     "output_type": "stream",
     "text": [
      "C:\\Users\\dell\\AppData\\Local\\Temp\\ipykernel_10288\\2988763807.py:102: FutureWarning: The behavior of DataFrame concatenation with empty or all-NA entries is deprecated. In a future version, this will no longer exclude empty or all-NA columns when determining the result dtypes. To retain the old behavior, exclude the relevant entries before the concat operation.\n",
      "  merged_df = pd.concat(out_rows, ignore_index=True)\n"
     ]
    },
    {
     "name": "stdout",
     "output_type": "stream",
     "text": [
      "✔️  lane_changing_3_to_2.csv: 46694 rows → 'merged_lane_changing_3_to_2.csv'\n"
     ]
    },
    {
     "name": "stderr",
     "output_type": "stream",
     "text": [
      "C:\\Users\\dell\\AppData\\Local\\Temp\\ipykernel_10288\\2988763807.py:102: FutureWarning: The behavior of DataFrame concatenation with empty or all-NA entries is deprecated. In a future version, this will no longer exclude empty or all-NA columns when determining the result dtypes. To retain the old behavior, exclude the relevant entries before the concat operation.\n",
      "  merged_df = pd.concat(out_rows, ignore_index=True)\n"
     ]
    },
    {
     "name": "stdout",
     "output_type": "stream",
     "text": [
      "✔️  lane_changing_3_to_4.csv: 11353 rows → 'merged_lane_changing_3_to_4.csv'\n"
     ]
    },
    {
     "name": "stderr",
     "output_type": "stream",
     "text": [
      "C:\\Users\\dell\\AppData\\Local\\Temp\\ipykernel_10288\\2988763807.py:102: FutureWarning: The behavior of DataFrame concatenation with empty or all-NA entries is deprecated. In a future version, this will no longer exclude empty or all-NA columns when determining the result dtypes. To retain the old behavior, exclude the relevant entries before the concat operation.\n",
      "  merged_df = pd.concat(out_rows, ignore_index=True)\n"
     ]
    },
    {
     "name": "stdout",
     "output_type": "stream",
     "text": [
      "✔️  lane_changing_4_to_3.csv: 78336 rows → 'merged_lane_changing_4_to_3.csv'\n"
     ]
    },
    {
     "name": "stderr",
     "output_type": "stream",
     "text": [
      "C:\\Users\\dell\\AppData\\Local\\Temp\\ipykernel_10288\\2988763807.py:102: FutureWarning: The behavior of DataFrame concatenation with empty or all-NA entries is deprecated. In a future version, this will no longer exclude empty or all-NA columns when determining the result dtypes. To retain the old behavior, exclude the relevant entries before the concat operation.\n",
      "  merged_df = pd.concat(out_rows, ignore_index=True)\n"
     ]
    },
    {
     "name": "stdout",
     "output_type": "stream",
     "text": [
      "✔️  lane_changing_4_to_5.csv: 7830 rows → 'merged_lane_changing_4_to_5.csv'\n"
     ]
    },
    {
     "name": "stderr",
     "output_type": "stream",
     "text": [
      "C:\\Users\\dell\\AppData\\Local\\Temp\\ipykernel_10288\\2988763807.py:102: FutureWarning: The behavior of DataFrame concatenation with empty or all-NA entries is deprecated. In a future version, this will no longer exclude empty or all-NA columns when determining the result dtypes. To retain the old behavior, exclude the relevant entries before the concat operation.\n",
      "  merged_df = pd.concat(out_rows, ignore_index=True)\n"
     ]
    },
    {
     "name": "stdout",
     "output_type": "stream",
     "text": [
      "✔️  lane_changing_5_to_4.csv: 103364 rows → 'merged_lane_changing_5_to_4.csv'\n"
     ]
    },
    {
     "name": "stderr",
     "output_type": "stream",
     "text": [
      "C:\\Users\\dell\\AppData\\Local\\Temp\\ipykernel_10288\\2988763807.py:102: FutureWarning: The behavior of DataFrame concatenation with empty or all-NA entries is deprecated. In a future version, this will no longer exclude empty or all-NA columns when determining the result dtypes. To retain the old behavior, exclude the relevant entries before the concat operation.\n",
      "  merged_df = pd.concat(out_rows, ignore_index=True)\n"
     ]
    },
    {
     "name": "stdout",
     "output_type": "stream",
     "text": [
      "✔️  lane_changing_5_to_6.csv: 27049 rows → 'merged_lane_changing_5_to_6.csv'\n"
     ]
    },
    {
     "name": "stderr",
     "output_type": "stream",
     "text": [
      "C:\\Users\\dell\\AppData\\Local\\Temp\\ipykernel_10288\\2988763807.py:102: FutureWarning: The behavior of DataFrame concatenation with empty or all-NA entries is deprecated. In a future version, this will no longer exclude empty or all-NA columns when determining the result dtypes. To retain the old behavior, exclude the relevant entries before the concat operation.\n",
      "  merged_df = pd.concat(out_rows, ignore_index=True)\n"
     ]
    },
    {
     "name": "stdout",
     "output_type": "stream",
     "text": [
      "✔️  lane_changing_6_to_5.csv: 109924 rows → 'merged_lane_changing_6_to_5.csv'\n"
     ]
    },
    {
     "name": "stderr",
     "output_type": "stream",
     "text": [
      "C:\\Users\\dell\\AppData\\Local\\Temp\\ipykernel_10288\\2988763807.py:102: FutureWarning: The behavior of DataFrame concatenation with empty or all-NA entries is deprecated. In a future version, this will no longer exclude empty or all-NA columns when determining the result dtypes. To retain the old behavior, exclude the relevant entries before the concat operation.\n",
      "  merged_df = pd.concat(out_rows, ignore_index=True)\n"
     ]
    },
    {
     "name": "stdout",
     "output_type": "stream",
     "text": [
      "✔️  lane_changing_6_to_7.csv: 11234 rows → 'merged_lane_changing_6_to_7.csv'\n"
     ]
    },
    {
     "name": "stderr",
     "output_type": "stream",
     "text": [
      "C:\\Users\\dell\\AppData\\Local\\Temp\\ipykernel_10288\\2988763807.py:102: FutureWarning: The behavior of DataFrame concatenation with empty or all-NA entries is deprecated. In a future version, this will no longer exclude empty or all-NA columns when determining the result dtypes. To retain the old behavior, exclude the relevant entries before the concat operation.\n",
      "  merged_df = pd.concat(out_rows, ignore_index=True)\n"
     ]
    },
    {
     "name": "stdout",
     "output_type": "stream",
     "text": [
      "✔️  lane_changing_7_to_6.csv: 130560 rows → 'merged_lane_changing_7_to_6.csv'\n"
     ]
    }
   ],
   "source": [
    "import pandas as pd\n",
    "\n",
    "# --------------------------------------------------\n",
    "# 1) Configuration\n",
    "# --------------------------------------------------\n",
    "\n",
    "# Path to your full dataset:\n",
    "WHOLE_DATA_FILE = 'I80dataset2.csv'\n",
    "\n",
    "# List of your lane‑changing event files:\n",
    "LANE_CHANGING_FILES = [\n",
    "    'lane_changing_2_to_3.csv',\n",
    "    'lane_changing_3_to_2.csv',\n",
    "    'lane_changing_3_to_4.csv',\n",
    "    'lane_changing_4_to_3.csv',\n",
    "    'lane_changing_4_to_5.csv',\n",
    "    'lane_changing_5_to_4.csv',\n",
    "    'lane_changing_5_to_6.csv',\n",
    "    'lane_changing_6_to_5.csv',\n",
    "    'lane_changing_6_to_7.csv',\n",
    "    'lane_changing_7_to_6.csv'\n",
    "]\n",
    "\n",
    "# --------------------------------------------------\n",
    "# 2) Helper: find the nearest follower/leader\n",
    "# --------------------------------------------------\n",
    "def find_nearest_vehicle(df_frame, y_change, position='follower'):\n",
    "    \"\"\"\n",
    "    Within df_frame (same frame), find the nearest vehicle relative\n",
    "    to y_change:\n",
    "      - 'follower': y < y_change, pick max(y)\n",
    "      - 'leader'  : y > y_change, pick min(y)\n",
    "    Returns a pd.Series or None.\n",
    "    \"\"\"\n",
    "    if position == 'follower':\n",
    "        cands = df_frame[df_frame['5'] < y_change]\n",
    "        if not cands.empty:\n",
    "            return cands.loc[cands['5'].idxmax()]\n",
    "    else:  # 'leader'\n",
    "        cands = df_frame[df_frame['5'] > y_change]\n",
    "        if not cands.empty:\n",
    "            return cands.loc[cands['5'].idxmin()]\n",
    "    return None\n",
    "\n",
    "# --------------------------------------------------\n",
    "# 3) Process one lane‑change file\n",
    "# --------------------------------------------------\n",
    "def process_lane_changing_file(file_name, whole_df):\n",
    "    # Parse source/target lane numbers from filename\n",
    "    base = file_name.replace('lane_changing_', '').replace('.csv', '')\n",
    "    source_lane, target_lane = map(int, base.split('_to_'))\n",
    "\n",
    "    # Load the lane‑change events\n",
    "    lc_df  = pd.read_csv(file_name)\n",
    "    src_df = whole_df[whole_df['lane_no'] == source_lane]\n",
    "    tgt_df = whole_df[whole_df['lane_no'] == target_lane]\n",
    "\n",
    "    out_rows = []\n",
    "\n",
    "    for _, lc in lc_df.iterrows():\n",
    "        frame = lc['1']\n",
    "        y_pos = lc['5']\n",
    "\n",
    "        # Same‑frame subsets\n",
    "        tgt_frame = tgt_df[tgt_df['1'] == frame]\n",
    "        src_frame = src_df[src_df['1'] == frame]\n",
    "\n",
    "        # Find neighbors\n",
    "        ft = find_nearest_vehicle(tgt_frame, y_pos, 'follower')\n",
    "        Lt = find_nearest_vehicle(tgt_frame, y_pos, 'leader')\n",
    "        Ls = find_nearest_vehicle(src_frame, y_pos, 'leader')\n",
    "        lg = find_nearest_vehicle(src_frame, y_pos, 'follower')\n",
    "\n",
    "        # Helper to build a one‑row DataFrame with proper column names\n",
    "        def make_row(series, suffix):\n",
    "            cols = whole_df.columns\n",
    "            if series is not None:\n",
    "                vals = series.reindex(cols).values\n",
    "            else:\n",
    "                vals = [pd.NA]*len(cols)\n",
    "            return pd.DataFrame([vals], columns=[f\"{c}{suffix}\" for c in cols])\n",
    "\n",
    "        # Lane‑change vehicle row (its own columns + suffix)\n",
    "        lc_row = pd.DataFrame(\n",
    "            [lc.values],\n",
    "            columns=[f\"{c}_lane_change\" for c in lc.index]\n",
    "        )\n",
    "\n",
    "        # Concatenate: LC | follower_target | leader_target | leader_source | lag_source\n",
    "        row = pd.concat([\n",
    "            lc_row,\n",
    "            make_row(ft, '_follower_target'),\n",
    "            make_row(Lt, '_leader_target'),\n",
    "            make_row(Ls, '_leader_source'),\n",
    "            make_row(lg, '_lag_source'),\n",
    "        ], axis=1)\n",
    "\n",
    "        out_rows.append(row)\n",
    "\n",
    "    # Write output if any rows were produced\n",
    "    if out_rows:\n",
    "        merged_df = pd.concat(out_rows, ignore_index=True)\n",
    "        out_name = f\"merged_{file_name}\"\n",
    "        merged_df.to_csv(out_name, index=False)\n",
    "        print(f\"✔️  {file_name}: {len(merged_df)} rows → '{out_name}'\")\n",
    "    else:\n",
    "        print(f\"⚠️  {file_name}: no rows merged\")\n",
    "\n",
    "# --------------------------------------------------\n",
    "# 4) Main\n",
    "# --------------------------------------------------\n",
    "if __name__ == \"__main__\":\n",
    "    whole_data = pd.read_csv(WHOLE_DATA_FILE)\n",
    "    for fname in LANE_CHANGING_FILES:\n",
    "        process_lane_changing_file(fname, whole_data)\n"
   ]
  },
  {
   "cell_type": "code",
   "execution_count": null,
   "id": "29fb05fa",
   "metadata": {},
   "outputs": [],
   "source": []
  }
 ],
 "metadata": {
  "kernelspec": {
   "display_name": "Python 3 (ipykernel)",
   "language": "python",
   "name": "python3"
  },
  "language_info": {
   "codemirror_mode": {
    "name": "ipython",
    "version": 3
   },
   "file_extension": ".py",
   "mimetype": "text/x-python",
   "name": "python",
   "nbconvert_exporter": "python",
   "pygments_lexer": "ipython3",
   "version": "3.9.5"
  }
 },
 "nbformat": 4,
 "nbformat_minor": 5
}
